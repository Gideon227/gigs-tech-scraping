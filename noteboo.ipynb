{
 "cells": [
  {
   "cell_type": "code",
   "execution_count": 2,
   "id": "c0247b2a",
   "metadata": {},
   "outputs": [],
   "source": [
    "import pandas as pd"
   ]
  },
  {
   "cell_type": "code",
   "execution_count": 9,
   "id": "3ffb29a7",
   "metadata": {},
   "outputs": [
    {
     "data": {
      "text/html": [
       "<div>\n",
       "<style scoped>\n",
       "    .dataframe tbody tr th:only-of-type {\n",
       "        vertical-align: middle;\n",
       "    }\n",
       "\n",
       "    .dataframe tbody tr th {\n",
       "        vertical-align: top;\n",
       "    }\n",
       "\n",
       "    .dataframe thead th {\n",
       "        text-align: right;\n",
       "    }\n",
       "</style>\n",
       "<table border=\"1\" class=\"dataframe\">\n",
       "  <thead>\n",
       "    <tr style=\"text-align: right;\">\n",
       "      <th></th>\n",
       "      <th>Company Name</th>\n",
       "      <th>Company Website</th>\n",
       "      <th>Job Page / Careers URL</th>\n",
       "      <th>Reason for Inclusion</th>\n",
       "      <th>Location</th>\n",
       "      <th>Company Type</th>\n",
       "      <th>Service Focus Area</th>\n",
       "      <th>Unnamed: 7</th>\n",
       "      <th>Unnamed: 8</th>\n",
       "      <th>Unnamed: 9</th>\n",
       "      <th>Unnamed: 10</th>\n",
       "      <th>url_type</th>\n",
       "      <th>power_url</th>\n",
       "      <th>dynamics_url</th>\n",
       "    </tr>\n",
       "  </thead>\n",
       "  <tbody>\n",
       "    <tr>\n",
       "      <th>0</th>\n",
       "      <td>Microsoft Careers</td>\n",
       "      <td>https://microsoft.com/</td>\n",
       "      <td>https://jobs.careers.microsoft.com/global/en/s...</td>\n",
       "      <td>Microsoft is the creator of Dynamics 365 and P...</td>\n",
       "      <td>Redmond, WA, USA</td>\n",
       "      <td>Software Vendor</td>\n",
       "      <td>All Microsoft products (including Dynamics 365...</td>\n",
       "      <td>NaN</td>\n",
       "      <td>NaN</td>\n",
       "      <td>NaN</td>\n",
       "      <td>Done</td>\n",
       "      <td>static</td>\n",
       "      <td>https://jobs.careers.microsoft.com/global/en/s...</td>\n",
       "      <td>https://jobs.careers.microsoft.com/global/en/s...</td>\n",
       "    </tr>\n",
       "    <tr>\n",
       "      <th>1</th>\n",
       "      <td>Accenture</td>\n",
       "      <td>https://www.accenture.com/</td>\n",
       "      <td>https://www.accenture.com/us-en/careers/jobsearch</td>\n",
       "      <td>Global consulting and Microsoft Gold Partner w...</td>\n",
       "      <td>Dublin, Ireland (Global)</td>\n",
       "      <td>Microsoft Partner (Consulting Firm)</td>\n",
       "      <td>Microsoft Dynamics 365 and Power Platform serv...</td>\n",
       "      <td>NaN</td>\n",
       "      <td>NaN</td>\n",
       "      <td>NaN</td>\n",
       "      <td>Done</td>\n",
       "      <td>static</td>\n",
       "      <td>https://www.accenture.com/us-en/careers/jobsea...</td>\n",
       "      <td>NaN</td>\n",
       "    </tr>\n",
       "  </tbody>\n",
       "</table>\n",
       "</div>"
      ],
      "text/plain": [
       "        Company Name             Company Website  \\\n",
       "0  Microsoft Careers      https://microsoft.com/   \n",
       "1          Accenture  https://www.accenture.com/   \n",
       "\n",
       "                              Job Page / Careers URL  \\\n",
       "0  https://jobs.careers.microsoft.com/global/en/s...   \n",
       "1  https://www.accenture.com/us-en/careers/jobsearch   \n",
       "\n",
       "                                Reason for Inclusion  \\\n",
       "0  Microsoft is the creator of Dynamics 365 and P...   \n",
       "1  Global consulting and Microsoft Gold Partner w...   \n",
       "\n",
       "                   Location                         Company Type  \\\n",
       "0          Redmond, WA, USA                      Software Vendor   \n",
       "1  Dublin, Ireland (Global)  Microsoft Partner (Consulting Firm)   \n",
       "\n",
       "                                  Service Focus Area  Unnamed: 7  Unnamed: 8  \\\n",
       "0  All Microsoft products (including Dynamics 365...         NaN         NaN   \n",
       "1  Microsoft Dynamics 365 and Power Platform serv...         NaN         NaN   \n",
       "\n",
       "   Unnamed: 9 Unnamed: 10 url_type  \\\n",
       "0         NaN        Done   static   \n",
       "1         NaN        Done   static   \n",
       "\n",
       "                                           power_url  \\\n",
       "0  https://jobs.careers.microsoft.com/global/en/s...   \n",
       "1  https://www.accenture.com/us-en/careers/jobsea...   \n",
       "\n",
       "                                        dynamics_url  \n",
       "0  https://jobs.careers.microsoft.com/global/en/s...  \n",
       "1                                                NaN  "
      ]
     },
     "execution_count": 9,
     "metadata": {},
     "output_type": "execute_result"
    }
   ],
   "source": [
    "df=pd.read_csv(\"./Gideon webscrap - Sheet1.csv\")\n",
    "df.head(2) "
   ]
  },
  {
   "cell_type": "code",
   "execution_count": 7,
   "id": "973715aa",
   "metadata": {},
   "outputs": [
    {
     "data": {
      "text/plain": [
       "Index(['Company Name', 'Company Website', 'Job Page / Careers URL',\n",
       "       'Reason for Inclusion', 'Location', 'Company Type',\n",
       "       'Service Focus Area', 'Unnamed: 7', 'Unnamed: 8', 'Unnamed: 9',\n",
       "       'Unnamed: 10', 'url_type', 'power_url', 'dynamics_url'],\n",
       "      dtype='object')"
      ]
     },
     "execution_count": 7,
     "metadata": {},
     "output_type": "execute_result"
    }
   ],
   "source": [
    "df.columns"
   ]
  },
  {
   "cell_type": "code",
   "execution_count": 10,
   "id": "605c9381",
   "metadata": {},
   "outputs": [],
   "source": [
    "# df = df.dropna()\n",
    "\n",
    "df_test= df[['power_url']]"
   ]
  },
  {
   "cell_type": "code",
   "execution_count": 11,
   "id": "efbafdc9",
   "metadata": {},
   "outputs": [
    {
     "data": {
      "text/plain": [
       "101"
      ]
     },
     "execution_count": 11,
     "metadata": {},
     "output_type": "execute_result"
    }
   ],
   "source": [
    "len(df_test)"
   ]
  },
  {
   "cell_type": "code",
   "execution_count": 12,
   "id": "10c1f944",
   "metadata": {},
   "outputs": [
    {
     "data": {
      "text/plain": [
       "power_url    96\n",
       "dtype: int64"
      ]
     },
     "execution_count": 12,
     "metadata": {},
     "output_type": "execute_result"
    }
   ],
   "source": [
    "df_test.isnull().sum()"
   ]
  },
  {
   "cell_type": "code",
   "execution_count": 13,
   "id": "3bf58c07",
   "metadata": {},
   "outputs": [
    {
     "data": {
      "text/plain": [
       "5"
      ]
     },
     "execution_count": 13,
     "metadata": {},
     "output_type": "execute_result"
    }
   ],
   "source": [
    "df_test= df_test.dropna()\n",
    "len(df_test)"
   ]
  },
  {
   "cell_type": "code",
   "execution_count": 14,
   "id": "69d67737",
   "metadata": {},
   "outputs": [],
   "source": [
    "df_test.to_csv(\"test.csv\")"
   ]
  },
  {
   "cell_type": "code",
   "execution_count": 15,
   "id": "0e850a4a",
   "metadata": {},
   "outputs": [
    {
     "data": {
      "text/html": [
       "<div>\n",
       "<style scoped>\n",
       "    .dataframe tbody tr th:only-of-type {\n",
       "        vertical-align: middle;\n",
       "    }\n",
       "\n",
       "    .dataframe tbody tr th {\n",
       "        vertical-align: top;\n",
       "    }\n",
       "\n",
       "    .dataframe thead th {\n",
       "        text-align: right;\n",
       "    }\n",
       "</style>\n",
       "<table border=\"1\" class=\"dataframe\">\n",
       "  <thead>\n",
       "    <tr style=\"text-align: right;\">\n",
       "      <th></th>\n",
       "      <th>power_url</th>\n",
       "    </tr>\n",
       "  </thead>\n",
       "  <tbody>\n",
       "    <tr>\n",
       "      <th>0</th>\n",
       "      <td>https://jobs.careers.microsoft.com/global/en/s...</td>\n",
       "    </tr>\n",
       "    <tr>\n",
       "      <th>1</th>\n",
       "      <td>https://www.accenture.com/us-en/careers/jobsea...</td>\n",
       "    </tr>\n",
       "    <tr>\n",
       "      <th>2</th>\n",
       "      <td>https://www.nigelfrank.com/microsoft-jobs?keyw...</td>\n",
       "    </tr>\n",
       "    <tr>\n",
       "      <th>3</th>\n",
       "      <td>https://www.avanade.com/en/career/search-jobs#...</td>\n",
       "    </tr>\n",
       "    <tr>\n",
       "      <th>5</th>\n",
       "      <td>https://apply.deloitte.com/en_US/careers/Searc...</td>\n",
       "    </tr>\n",
       "  </tbody>\n",
       "</table>\n",
       "</div>"
      ],
      "text/plain": [
       "                                           power_url\n",
       "0  https://jobs.careers.microsoft.com/global/en/s...\n",
       "1  https://www.accenture.com/us-en/careers/jobsea...\n",
       "2  https://www.nigelfrank.com/microsoft-jobs?keyw...\n",
       "3  https://www.avanade.com/en/career/search-jobs#...\n",
       "5  https://apply.deloitte.com/en_US/careers/Searc..."
      ]
     },
     "execution_count": 15,
     "metadata": {},
     "output_type": "execute_result"
    }
   ],
   "source": [
    "df_test.head()"
   ]
  },
  {
   "cell_type": "code",
   "execution_count": 4,
   "id": "54038c3f",
   "metadata": {},
   "outputs": [
    {
     "data": {
      "text/html": [
       "<div>\n",
       "<style scoped>\n",
       "    .dataframe tbody tr th:only-of-type {\n",
       "        vertical-align: middle;\n",
       "    }\n",
       "\n",
       "    .dataframe tbody tr th {\n",
       "        vertical-align: top;\n",
       "    }\n",
       "\n",
       "    .dataframe thead th {\n",
       "        text-align: right;\n",
       "    }\n",
       "</style>\n",
       "<table border=\"1\" class=\"dataframe\">\n",
       "  <thead>\n",
       "    <tr style=\"text-align: right;\">\n",
       "      <th></th>\n",
       "      <th>Company Name</th>\n",
       "      <th>Company Website</th>\n",
       "      <th>Job Page / Careers URL</th>\n",
       "      <th>Reason for Inclusion</th>\n",
       "      <th>Location</th>\n",
       "      <th>Company Type</th>\n",
       "      <th>Service Focus Area</th>\n",
       "      <th>Unnamed: 7</th>\n",
       "      <th>Unnamed: 8</th>\n",
       "      <th>Unnamed: 9</th>\n",
       "      <th>Unnamed: 10</th>\n",
       "      <th>url_type</th>\n",
       "      <th>power_url</th>\n",
       "      <th>dynamics_url</th>\n",
       "      <th>wait_for</th>\n",
       "    </tr>\n",
       "  </thead>\n",
       "  <tbody>\n",
       "    <tr>\n",
       "      <th>0</th>\n",
       "      <td>Microsoft Careers</td>\n",
       "      <td>https://microsoft.com/</td>\n",
       "      <td>https://jobs.careers.microsoft.com/global/en/s...</td>\n",
       "      <td>Microsoft is the creator of Dynamics 365 and P...</td>\n",
       "      <td>Redmond, WA, USA</td>\n",
       "      <td>Software Vendor</td>\n",
       "      <td>All Microsoft products (including Dynamics 365...</td>\n",
       "      <td>NaN</td>\n",
       "      <td>NaN</td>\n",
       "      <td>NaN</td>\n",
       "      <td>Done</td>\n",
       "      <td>dynamic</td>\n",
       "      <td>https://jobs.careers.microsoft.com/global/en/s...</td>\n",
       "      <td>https://jobs.careers.microsoft.com/global/en/s...</td>\n",
       "      <td>NaN</td>\n",
       "    </tr>\n",
       "    <tr>\n",
       "      <th>1</th>\n",
       "      <td>Accenture</td>\n",
       "      <td>https://www.accenture.com/</td>\n",
       "      <td>https://www.accenture.com/us-en/careers/jobsearch</td>\n",
       "      <td>Global consulting and Microsoft Gold Partner w...</td>\n",
       "      <td>Dublin, Ireland (Global)</td>\n",
       "      <td>Microsoft Partner (Consulting Firm)</td>\n",
       "      <td>Microsoft Dynamics 365 and Power Platform serv...</td>\n",
       "      <td>NaN</td>\n",
       "      <td>NaN</td>\n",
       "      <td>NaN</td>\n",
       "      <td>Done</td>\n",
       "      <td>static</td>\n",
       "      <td>https://www.accenture.com/us-en/careers/jobsea...</td>\n",
       "      <td>NaN</td>\n",
       "      <td>class=\"rad-filters-vertical__job-card\"</td>\n",
       "    </tr>\n",
       "    <tr>\n",
       "      <th>2</th>\n",
       "      <td>Nigel Frank International</td>\n",
       "      <td>https://www.nigelfrank.com/</td>\n",
       "      <td>https://www.nigelfrank.com/microsoft-jobs</td>\n",
       "      <td>Leading recruitment firm specialized in Micros...</td>\n",
       "      <td>Newcastle, UK (Global)</td>\n",
       "      <td>Recruiting Firm</td>\n",
       "      <td>Microsoft Dynamics 365 and Power Platform roles</td>\n",
       "      <td>NaN</td>\n",
       "      <td>NaN</td>\n",
       "      <td>NaN</td>\n",
       "      <td>Done</td>\n",
       "      <td>static</td>\n",
       "      <td>https://www.nigelfrank.com/microsoft-jobs?keyw...</td>\n",
       "      <td>https://www.nigelfrank.com/microsoft-jobs?keyw...</td>\n",
       "      <td>class=\"overview\"</td>\n",
       "    </tr>\n",
       "    <tr>\n",
       "      <th>3</th>\n",
       "      <td>Avanade</td>\n",
       "      <td>https://www.avanade.com/</td>\n",
       "      <td>https://www.avanade.com/en/career/search-jobs#...</td>\n",
       "      <td>Major Microsoft-focused consultancy (joint ven...</td>\n",
       "      <td>Seattle, WA, USA (Global)</td>\n",
       "      <td>Microsoft Partner (Consulting Firm)</td>\n",
       "      <td>Microsoft Dynamics 365 and Power Platform serv...</td>\n",
       "      <td>NaN</td>\n",
       "      <td>NaN</td>\n",
       "      <td>NaN</td>\n",
       "      <td>in progress</td>\n",
       "      <td>static</td>\n",
       "      <td>https://www.avanade.com/en/career/search-jobs#...</td>\n",
       "      <td>https://www.avanade.com/en/career/search-jobs#...</td>\n",
       "      <td>class=\"jobCard\"</td>\n",
       "    </tr>\n",
       "    <tr>\n",
       "      <th>4</th>\n",
       "      <td>TEKsystems</td>\n",
       "      <td>https://teksystems.com/</td>\n",
       "      <td>https://careers.teksystems.com/us/en/search-re...</td>\n",
       "      <td>One of the largest IT staffing firms with a br...</td>\n",
       "      <td>Hanover, MD, USA</td>\n",
       "      <td>Recruiting Firm</td>\n",
       "      <td>Microsoft Dynamics 365 and Power Platform roles</td>\n",
       "      <td>NaN</td>\n",
       "      <td>NaN</td>\n",
       "      <td>NaN</td>\n",
       "      <td>issue</td>\n",
       "      <td>NaN</td>\n",
       "      <td>NaN</td>\n",
       "      <td>NaN</td>\n",
       "      <td>NaN</td>\n",
       "    </tr>\n",
       "  </tbody>\n",
       "</table>\n",
       "</div>"
      ],
      "text/plain": [
       "                Company Name              Company Website  \\\n",
       "0          Microsoft Careers       https://microsoft.com/   \n",
       "1                  Accenture   https://www.accenture.com/   \n",
       "2  Nigel Frank International  https://www.nigelfrank.com/   \n",
       "3                    Avanade     https://www.avanade.com/   \n",
       "4                 TEKsystems      https://teksystems.com/   \n",
       "\n",
       "                              Job Page / Careers URL  \\\n",
       "0  https://jobs.careers.microsoft.com/global/en/s...   \n",
       "1  https://www.accenture.com/us-en/careers/jobsearch   \n",
       "2          https://www.nigelfrank.com/microsoft-jobs   \n",
       "3  https://www.avanade.com/en/career/search-jobs#...   \n",
       "4  https://careers.teksystems.com/us/en/search-re...   \n",
       "\n",
       "                                Reason for Inclusion  \\\n",
       "0  Microsoft is the creator of Dynamics 365 and P...   \n",
       "1  Global consulting and Microsoft Gold Partner w...   \n",
       "2  Leading recruitment firm specialized in Micros...   \n",
       "3  Major Microsoft-focused consultancy (joint ven...   \n",
       "4  One of the largest IT staffing firms with a br...   \n",
       "\n",
       "                    Location                         Company Type  \\\n",
       "0           Redmond, WA, USA                      Software Vendor   \n",
       "1   Dublin, Ireland (Global)  Microsoft Partner (Consulting Firm)   \n",
       "2     Newcastle, UK (Global)                      Recruiting Firm   \n",
       "3  Seattle, WA, USA (Global)  Microsoft Partner (Consulting Firm)   \n",
       "4           Hanover, MD, USA                      Recruiting Firm   \n",
       "\n",
       "                                  Service Focus Area  Unnamed: 7  Unnamed: 8  \\\n",
       "0  All Microsoft products (including Dynamics 365...         NaN         NaN   \n",
       "1  Microsoft Dynamics 365 and Power Platform serv...         NaN         NaN   \n",
       "2    Microsoft Dynamics 365 and Power Platform roles         NaN         NaN   \n",
       "3  Microsoft Dynamics 365 and Power Platform serv...         NaN         NaN   \n",
       "4    Microsoft Dynamics 365 and Power Platform roles         NaN         NaN   \n",
       "\n",
       "  Unnamed: 9  Unnamed: 10 url_type  \\\n",
       "0        NaN         Done  dynamic   \n",
       "1        NaN         Done   static   \n",
       "2        NaN         Done   static   \n",
       "3        NaN  in progress   static   \n",
       "4        NaN        issue      NaN   \n",
       "\n",
       "                                           power_url  \\\n",
       "0  https://jobs.careers.microsoft.com/global/en/s...   \n",
       "1  https://www.accenture.com/us-en/careers/jobsea...   \n",
       "2  https://www.nigelfrank.com/microsoft-jobs?keyw...   \n",
       "3  https://www.avanade.com/en/career/search-jobs#...   \n",
       "4                                                NaN   \n",
       "\n",
       "                                        dynamics_url  \\\n",
       "0  https://jobs.careers.microsoft.com/global/en/s...   \n",
       "1                                                NaN   \n",
       "2  https://www.nigelfrank.com/microsoft-jobs?keyw...   \n",
       "3  https://www.avanade.com/en/career/search-jobs#...   \n",
       "4                                                NaN   \n",
       "\n",
       "                                 wait_for  \n",
       "0                                     NaN  \n",
       "1  class=\"rad-filters-vertical__job-card\"  \n",
       "2                        class=\"overview\"  \n",
       "3                         class=\"jobCard\"  \n",
       "4                                     NaN  "
      ]
     },
     "execution_count": 4,
     "metadata": {},
     "output_type": "execute_result"
    }
   ],
   "source": [
    "import pandas as pd\n",
    "dd_static = pd.read_csv(\"static_jobs.csv\")\n",
    "dd_static.head()"
   ]
  },
  {
   "cell_type": "code",
   "execution_count": 5,
   "id": "14a18e8b",
   "metadata": {},
   "outputs": [
    {
     "data": {
      "text/plain": [
       "np.int64(43)"
      ]
     },
     "execution_count": 5,
     "metadata": {},
     "output_type": "execute_result"
    }
   ],
   "source": [
    "dd_static[\"wait_for\"].isnull().sum()"
   ]
  },
  {
   "cell_type": "code",
   "execution_count": 6,
   "id": "84f31dc6",
   "metadata": {},
   "outputs": [
    {
     "data": {
      "text/plain": [
       "101"
      ]
     },
     "execution_count": 6,
     "metadata": {},
     "output_type": "execute_result"
    }
   ],
   "source": [
    "len(dd_static)"
   ]
  },
  {
   "cell_type": "code",
   "execution_count": 7,
   "id": "8134caf6",
   "metadata": {},
   "outputs": [
    {
     "data": {
      "text/plain": [
       "Company Name                0\n",
       "Company Website             0\n",
       "Job Page / Careers URL      0\n",
       "Reason for Inclusion       17\n",
       "Location                   17\n",
       "Company Type               17\n",
       "Service Focus Area         17\n",
       "Unnamed: 7                101\n",
       "Unnamed: 8                101\n",
       "Unnamed: 9                 99\n",
       "Unnamed: 10                69\n",
       "url_type                    6\n",
       "power_url                  30\n",
       "dynamics_url               72\n",
       "wait_for                   43\n",
       "dtype: int64"
      ]
     },
     "execution_count": 7,
     "metadata": {},
     "output_type": "execute_result"
    }
   ],
   "source": [
    "dd_static.isnull().sum()"
   ]
  },
  {
   "cell_type": "code",
   "execution_count": 8,
   "id": "7d3ad3a7",
   "metadata": {},
   "outputs": [
    {
     "data": {
      "text/plain": [
       "58"
      ]
     },
     "execution_count": 8,
     "metadata": {},
     "output_type": "execute_result"
    }
   ],
   "source": [
    "dd_static=dd_static.dropna(subset=['wait_for'])\n",
    "\n",
    "len(dd_static)"
   ]
  },
  {
   "cell_type": "code",
   "execution_count": 9,
   "id": "bd053012",
   "metadata": {},
   "outputs": [
    {
     "data": {
      "text/plain": [
       "Company Name               0\n",
       "Company Website            0\n",
       "Job Page / Careers URL     0\n",
       "Reason for Inclusion      13\n",
       "Location                  13\n",
       "Company Type              13\n",
       "Service Focus Area        13\n",
       "Unnamed: 7                58\n",
       "Unnamed: 8                58\n",
       "Unnamed: 9                57\n",
       "Unnamed: 10               35\n",
       "url_type                   1\n",
       "power_url                  0\n",
       "dynamics_url              31\n",
       "wait_for                   0\n",
       "dtype: int64"
      ]
     },
     "execution_count": 9,
     "metadata": {},
     "output_type": "execute_result"
    }
   ],
   "source": [
    "dd_static.isnull().sum()"
   ]
  },
  {
   "cell_type": "code",
   "execution_count": 10,
   "id": "d01d50d6",
   "metadata": {},
   "outputs": [],
   "source": [
    "dd_static=dd_static.drop([\"Job Page / Careers URL\",\"Reason for Inclusion\", \"Reason for Inclusion\", \"Location\", \"Unnamed: 7\",\"Unnamed: 8\", \"Unnamed: 9\",\"Unnamed: 10\"] ,axis=1)"
   ]
  },
  {
   "cell_type": "code",
   "execution_count": 11,
   "id": "a0f93000",
   "metadata": {},
   "outputs": [
    {
     "data": {
      "text/plain": [
       "Index(['Company Name', 'Company Website', 'Company Type', 'Service Focus Area',\n",
       "       'url_type', 'power_url', 'dynamics_url', 'wait_for'],\n",
       "      dtype='object')"
      ]
     },
     "execution_count": 11,
     "metadata": {},
     "output_type": "execute_result"
    }
   ],
   "source": [
    "dd_static.columns"
   ]
  },
  {
   "cell_type": "code",
   "execution_count": 12,
   "id": "c33bef1c",
   "metadata": {},
   "outputs": [],
   "source": [
    "dd_static.to_csv(\"treat_static_job.csv\", index=False)"
   ]
  },
  {
   "cell_type": "code",
   "execution_count": 3,
   "id": "d836ff3d",
   "metadata": {},
   "outputs": [],
   "source": [
    "import pandas as pd"
   ]
  },
  {
   "cell_type": "code",
   "execution_count": null,
   "id": "2519dc7a",
   "metadata": {},
   "outputs": [],
   "source": [
    "ts =pd.read_csv(\"treat_static_job.csv\")\n",
    "\n",
    "ts"
   ]
  },
  {
   "cell_type": "code",
   "execution_count": 4,
   "id": "25f7c3ba",
   "metadata": {},
   "outputs": [
    {
     "data": {
      "text/plain": [
       "Index(['company_name', 'company_website', 'company_type', 'service_focus_area',\n",
       "       'url_type', 'power_url', 'dynamics_url', 'wait_for'],\n",
       "      dtype='object')"
      ]
     },
     "execution_count": 4,
     "metadata": {},
     "output_type": "execute_result"
    }
   ],
   "source": [
    "ts.columns=ts.columns.str.lower().str.replace(\" \",\"_\")\n",
    "\n",
    "ts.columns"
   ]
  },
  {
   "cell_type": "code",
   "execution_count": 5,
   "id": "e2770700",
   "metadata": {},
   "outputs": [],
   "source": [
    "ts.to_csv(\"treat_static_job.csv\",index=False)"
   ]
  },
  {
   "cell_type": "code",
   "execution_count": 1,
   "id": "36b0a2bd",
   "metadata": {},
   "outputs": [
    {
     "data": {
      "text/plain": [
       "'jobcompany_jobId_here_me'"
      ]
     },
     "execution_count": 1,
     "metadata": {},
     "output_type": "execute_result"
    }
   ],
   "source": [
    "import hashlib\n",
    "\n",
    "def generate_unique_id(job, data):\n",
    "    job_id_raw = (data.get(\"jobId\") or \"\").strip()\n",
    "    company_name = (job.get(\"companyName\") or \"\").strip().replace(\" \", \"_\").lower()\n",
    "\n",
    "    if job_id_raw:\n",
    "        return f\"{company_name}_{job_id_raw}\"\n",
    "\n",
    "    # Fallback: use hash of application URL + title + location\n",
    "    application_url = data.get(\"applicationUrl\") or job.get(\"applicationUrl\", \"\")\n",
    "    title = data.get(\"title\", \"\")\n",
    "    location = data.get(\"location\", \"\")\n",
    "\n",
    "    fallback_string = f\"{company_name}_{title}_{location}_{application_url}\"\n",
    "    hash_digest = hashlib.sha256(fallback_string.encode(\"utf-8\")).hexdigest()[:10]  # short hash\n",
    "    return f\"{company_name}_{hash_digest}\"\n",
    "has =generate_unique_id(job={\"companyName\":\"jobcompany\"},data={\"jobId\":\"jobId_here_me\"})\n",
    "has\n",
    "    \n",
    "    "
   ]
  }
 ],
 "metadata": {
  "kernelspec": {
   "display_name": "myenv",
   "language": "python",
   "name": "python3"
  },
  "language_info": {
   "codemirror_mode": {
    "name": "ipython",
    "version": 3
   },
   "file_extension": ".py",
   "mimetype": "text/x-python",
   "name": "python",
   "nbconvert_exporter": "python",
   "pygments_lexer": "ipython3",
   "version": "3.12.4"
  }
 },
 "nbformat": 4,
 "nbformat_minor": 5
}
